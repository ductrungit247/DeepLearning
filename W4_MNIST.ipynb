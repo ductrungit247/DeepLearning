{
  "cells": [
    {
      "cell_type": "code",
      "execution_count": 1,
      "metadata": {
        "colab": {
          "base_uri": "https://localhost:8080/"
        },
        "id": "pqt88fl-Hbx5",
        "outputId": "64bd16bd-30cc-4243-9938-1ebbcf21ed3e"
      },
      "outputs": [
        {
          "output_type": "stream",
          "name": "stdout",
          "text": [
            "Mounted at /content/drive\n"
          ]
        }
      ],
      "source": [
        "from google.colab import drive\n",
        "drive.mount('/content/drive')"
      ],
      "id": "pqt88fl-Hbx5"
    },
    {
      "cell_type": "code",
      "execution_count": 2,
      "metadata": {
        "id": "b4556738"
      },
      "outputs": [],
      "source": [
        "# All necessary imports\n",
        "import os\n",
        "import time\n",
        "import copy\n",
        "\n",
        "import numpy as np\n",
        "import torch\n",
        "import torch.nn as nn\n",
        "import torch.nn.functional as F\n",
        "import torch.optim as optim\n",
        "import torchvision\n",
        "from torchvision import datasets, models, transforms\n",
        "\n",
        "import matplotlib.pyplot as plt\n",
        "%matplotlib inline"
      ],
      "id": "b4556738"
    },
    {
      "cell_type": "markdown",
      "metadata": {
        "id": "dfc34808"
      },
      "source": [
        "## Part 1: Data\n",
        "\n",
        "### 1.1 Scouting\n",
        "\n",
        "First of all, we will take a peak at the datasets we are to work with.\n",
        "\n",
        "In total, the dataset we will be using is FashionMNIST.\n",
        "\n",
        "Compared to Cifar10, composed by 32x32x3 RGB images, FashionMNIST is composed by 28x28x1 grayscale images of clothes (\"T-shirt/top\", \"Trouser\", \"Pullover\", \"Dress\", \"Coat\", \"Sandal\", \"Shirt\", \"Sneaker\", \"Bag\", \"Ankle boot\").\n",
        "\n",
        "We will first take a peak at what the dataset will offer."
      ],
      "id": "dfc34808"
    },
    {
      "cell_type": "code",
      "execution_count": 3,
      "metadata": {
        "colab": {
          "base_uri": "https://localhost:8080/",
          "height": 560
        },
        "id": "a3b70542",
        "outputId": "54062761-ccd0-4a2c-f65d-ec76dfa68611"
      },
      "outputs": [
        {
          "output_type": "stream",
          "name": "stdout",
          "text": [
            "Downloading http://fashion-mnist.s3-website.eu-central-1.amazonaws.com/train-images-idx3-ubyte.gz\n",
            "Downloading http://fashion-mnist.s3-website.eu-central-1.amazonaws.com/train-images-idx3-ubyte.gz to ./data/FashionMNIST/raw/train-images-idx3-ubyte.gz\n"
          ]
        },
        {
          "output_type": "stream",
          "name": "stderr",
          "text": [
            "100%|██████████| 26421880/26421880 [00:02<00:00, 12606432.63it/s]\n"
          ]
        },
        {
          "output_type": "stream",
          "name": "stdout",
          "text": [
            "Extracting ./data/FashionMNIST/raw/train-images-idx3-ubyte.gz to ./data/FashionMNIST/raw\n",
            "\n",
            "Downloading http://fashion-mnist.s3-website.eu-central-1.amazonaws.com/train-labels-idx1-ubyte.gz\n",
            "Downloading http://fashion-mnist.s3-website.eu-central-1.amazonaws.com/train-labels-idx1-ubyte.gz to ./data/FashionMNIST/raw/train-labels-idx1-ubyte.gz\n"
          ]
        },
        {
          "output_type": "stream",
          "name": "stderr",
          "text": [
            "100%|██████████| 29515/29515 [00:00<00:00, 200243.41it/s]\n"
          ]
        },
        {
          "output_type": "stream",
          "name": "stdout",
          "text": [
            "Extracting ./data/FashionMNIST/raw/train-labels-idx1-ubyte.gz to ./data/FashionMNIST/raw\n",
            "\n",
            "Downloading http://fashion-mnist.s3-website.eu-central-1.amazonaws.com/t10k-images-idx3-ubyte.gz\n",
            "Downloading http://fashion-mnist.s3-website.eu-central-1.amazonaws.com/t10k-images-idx3-ubyte.gz to ./data/FashionMNIST/raw/t10k-images-idx3-ubyte.gz\n"
          ]
        },
        {
          "output_type": "stream",
          "name": "stderr",
          "text": [
            "100%|██████████| 4422102/4422102 [00:01<00:00, 3754279.03it/s]\n"
          ]
        },
        {
          "output_type": "stream",
          "name": "stdout",
          "text": [
            "Extracting ./data/FashionMNIST/raw/t10k-images-idx3-ubyte.gz to ./data/FashionMNIST/raw\n",
            "\n",
            "Downloading http://fashion-mnist.s3-website.eu-central-1.amazonaws.com/t10k-labels-idx1-ubyte.gz\n",
            "Downloading http://fashion-mnist.s3-website.eu-central-1.amazonaws.com/t10k-labels-idx1-ubyte.gz to ./data/FashionMNIST/raw/t10k-labels-idx1-ubyte.gz\n"
          ]
        },
        {
          "output_type": "stream",
          "name": "stderr",
          "text": [
            "100%|██████████| 5148/5148 [00:00<00:00, 18023603.50it/s]\n"
          ]
        },
        {
          "output_type": "stream",
          "name": "stdout",
          "text": [
            "Extracting ./data/FashionMNIST/raw/t10k-labels-idx1-ubyte.gz to ./data/FashionMNIST/raw\n",
            "\n"
          ]
        },
        {
          "output_type": "display_data",
          "data": {
            "text/plain": [
              "<Figure size 640x480 with 1 Axes>"
            ],
            "image/png": "[encoded data removed]"
          },
          "metadata": {}
        }
      ],
      "source": [
        "def imshow(\n",
        "    input,\n",
        "    title: str = None,\n",
        "    ):\n",
        "    \"\"\"Imshow for one batch.\"\"\"\n",
        "    input = input.numpy().transpose((1, 2, 0))\n",
        "    plt.imshow(input, cmap='gray')\n",
        "    if title is not None:\n",
        "        plt.title(title)\n",
        "    plt.pause(0.001)\n",
        "\n",
        "def demo_base(\n",
        "    dataset_name=\"FashionMNIST\",\n",
        "    ):\n",
        "    # No additional data preprocessing or augmentation here\n",
        "    demo_tfms = transforms.Compose([\n",
        "        transforms.ToTensor(),  # This will shift data to [0, 1]\n",
        "        ])\n",
        "\n",
        "    if dataset_name == \"FashionMNIST\":\n",
        "        demo_dataset = datasets.FashionMNIST(\n",
        "            root=\"./data\",     # Make sure to have \"./\" beforehand\n",
        "            train=True,\n",
        "            transform=demo_tfms,    # Leave out transform for now\n",
        "            download=True,\n",
        "            )\n",
        "    else:\n",
        "        raise Exception(\"Only one.\")\n",
        "\n",
        "    demo_loader = torch.utils.data.DataLoader(\n",
        "        demo_dataset,\n",
        "        batch_size=4,\n",
        "        shuffle=True\n",
        "        )\n",
        "\n",
        "    # Grab a batch\n",
        "    inputs, class_indices = next(iter(demo_loader))\n",
        "\n",
        "    # Make a grid from batch\n",
        "    out = torchvision.utils.make_grid(inputs)\n",
        "\n",
        "    imshow(out, title=[demo_dataset.classes[idx] for idx in class_indices])\n",
        "\n",
        "demo_base(\"FashionMNIST\")"
      ],
      "id": "a3b70542"
    },
    {
      "cell_type": "markdown",
      "metadata": {
        "id": "07676e22"
      },
      "source": [
        "## 1.2 Preprocessing\n",
        "\n"
      ],
      "id": "07676e22"
    },
    {
      "cell_type": "code",
      "execution_count": 4,
      "metadata": {
        "id": "b8b91993"
      },
      "outputs": [],
      "source": [
        "class CustomNormalize(object):\n",
        "    def __init__(self, mean, std):\n",
        "        \"\"\"A custom normalization object to be used with torchvision.transforms.\n",
        "        \"\"\"\n",
        "        self.mean = mean\n",
        "        self.std = std\n",
        "\n",
        "    def __call__(self, x):\n",
        "        \"\"\"Given a tensor x of shape (n_channels, height, width),\n",
        "        normalize the tensor by the specified mean and std.\n",
        "        \"\"\"\n",
        "\n",
        "        new_x = (x - self.mean) / self.std\n",
        "\n",
        "        return new_x\n",
        "\n",
        "mean = 0.5\n",
        "std = 0.5\n",
        "preprocessing_tfm = CustomNormalize(mean, std)\n",
        "# ####################"
      ],
      "id": "b8b91993"
    },
    {
      "cell_type": "code",
      "execution_count": 5,
      "metadata": {
        "colab": {
          "base_uri": "https://localhost:8080/",
          "height": 265
        },
        "id": "92e7422e",
        "outputId": "b273993f-39b4-418e-ad83-c032446a97a8"
      },
      "outputs": [
        {
          "output_type": "stream",
          "name": "stderr",
          "text": [
            "WARNING:matplotlib.image:Clipping input data to the valid range for imshow with RGB data ([0..1] for floats or [0..255] for integers).\n"
          ]
        },
        {
          "output_type": "stream",
          "name": "stdout",
          "text": [
            "torch.Size([4, 1, 28, 28])\n",
            "tensor(1.) tensor(-1.)\n"
          ]
        },
        {
          "output_type": "display_data",
          "data": {
            "text/plain": [
              "<Figure size 640x480 with 1 Axes>"
            ],
            "image/png": "[encoded data removed]"
          },
          "metadata": {}
        }
      ],
      "source": [
        "def demo_preprocessing(\n",
        "    dataset_name=\"FashionMNIST\",\n",
        "    ):\n",
        "    demo_tfms = transforms.Compose([\n",
        "        transforms.ToTensor(),  # This will shift data to [0, 1]\n",
        "        preprocessing_tfm,\n",
        "    ])\n",
        "\n",
        "    if dataset_name == \"FashionMNIST\":\n",
        "        demo_dataset = datasets.FashionMNIST(\n",
        "            root=\"./data\",     # Make sure to have \"./\" beforehand\n",
        "            train=True,\n",
        "            transform=demo_tfms,\n",
        "            download=True,\n",
        "            )\n",
        "    else:\n",
        "        raise Exception(\"Only one.\")\n",
        "\n",
        "    demo_loader = torch.utils.data.DataLoader(\n",
        "        demo_dataset,\n",
        "        batch_size=4,\n",
        "        shuffle=True\n",
        "        )\n",
        "\n",
        "    # Grab a batch\n",
        "    inputs, class_indices = next(iter(demo_loader))\n",
        "\n",
        "    # Always check your tensor shape\n",
        "    print(inputs.shape)\n",
        "\n",
        "    # NOTE: Pass this unittest\n",
        "    print(inputs.reshape(-1).max(), inputs.reshape(-1).min())\n",
        "    assert inputs.reshape(-1).max() == 1.0\n",
        "    assert inputs.reshape(-1).min() == -1.0\n",
        "\n",
        "    # Make a grid from batch\n",
        "    out = torchvision.utils.make_grid(inputs)\n",
        "\n",
        "    imshow(out, title=[demo_dataset.classes[idx] for idx in class_indices])\n",
        "\n",
        "demo_preprocessing(\"FashionMNIST\")"
      ],
      "id": "92e7422e"
    },
    {
      "cell_type": "code",
      "execution_count": 6,
      "metadata": {
        "id": "5fa94664"
      },
      "outputs": [],
      "source": [
        "augmentations = [torchvision.transforms.RandomResizedCrop(135), torchvision.transforms.CenterCrop(236)]"
      ],
      "id": "5fa94664"
    },
    {
      "cell_type": "code",
      "execution_count": 7,
      "metadata": {
        "colab": {
          "base_uri": "https://localhost:8080/",
          "height": 145
        },
        "id": "0be30a25",
        "outputId": "d2b33970-7f69-49c0-c8aa-106ff40b4843"
      },
      "outputs": [
        {
          "output_type": "display_data",
          "data": {
            "text/plain": [
              "<Figure size 640x480 with 1 Axes>"
            ],
            "image/png": "[encoded data removed]"
          },
          "metadata": {}
        }
      ],
      "source": [
        "def demo_augmentation(\n",
        "    dataset_name=\"FashionMNIST\",\n",
        "    ):\n",
        "    demo_tfms = transforms.Compose((\n",
        "        [] +\n",
        "        augmentations +\n",
        "        [transforms.ToTensor()]  # This will shift data to [0, 1]\n",
        "    ))\n",
        "\n",
        "    if dataset_name == \"FashionMNIST\":\n",
        "        demo_dataset = datasets.FashionMNIST(\n",
        "            root=\"./data\",     # Make sure to have \"./\" beforehand\n",
        "            train=True,\n",
        "            transform=demo_tfms,\n",
        "            download=True,\n",
        "            )\n",
        "    else:\n",
        "        raise Exception(\"Only one.\")\n",
        "\n",
        "    demo_loader = torch.utils.data.DataLoader(\n",
        "        demo_dataset,\n",
        "        batch_size=8,\n",
        "        shuffle=True\n",
        "        )\n",
        "\n",
        "    # Grab a batch\n",
        "    inputs, class_indices = next(iter(demo_loader))\n",
        "\n",
        "    # Make a grid from batch\n",
        "    out = torchvision.utils.make_grid(inputs)\n",
        "\n",
        "    imshow(out, title=[demo_dataset.classes[idx] for idx in class_indices])\n",
        "\n",
        "# NOTE: Check your images and inspect some of the transformed images\n",
        "demo_augmentation(\"FashionMNIST\")"
      ],
      "id": "0be30a25"
    },
    {
      "cell_type": "markdown",
      "metadata": {
        "id": "a9028785"
      },
      "source": [
        "## 1.4 Define Dataset\n"
      ],
      "id": "a9028785"
    },
    {
      "cell_type": "code",
      "execution_count": 8,
      "metadata": {
        "colab": {
          "base_uri": "https://localhost:8080/"
        },
        "id": "216b0b17",
        "outputId": "4bbc31e8-86f4-4618-d9c6-e22c68b545cd"
      },
      "outputs": [
        {
          "output_type": "stream",
          "name": "stdout",
          "text": [
            "Num. train (total, unused): 60000\n",
            "Num. test: 10000\n",
            "Num. train: 5000\n"
          ]
        }
      ],
      "source": [
        "\n",
        "# augmentations_train_tfms = [torchvision.transforms.RandomResizedCrop(230),\n",
        "                            # torchvision.transforms.CenterCrop(236),\n",
        "                            # torchvision.transforms.CenterCrop(10),\n",
        "                            # torchvision.transforms.RandomHorizontalFlip()]\n",
        "augmentations_train_tfms = [torchvision.transforms.RandomHorizontalFlip(),\n",
        "                            torchvision.transforms.RandomVerticalFlip(),\n",
        "                            torchvision.transforms.RandomGrayscale(p=0.1)]\n",
        "train_tfms = transforms.Compose([] +\n",
        "                               augmentations_train_tfms +\n",
        "                               [transforms.ToTensor(),\n",
        "                               preprocessing_tfm])\n",
        "test_tfms = transforms.Compose([] +\n",
        "                               [transforms.ToTensor(),\n",
        "                               preprocessing_tfm])\n",
        "\n",
        "\n",
        "\n",
        "train_dataset_full = datasets.FashionMNIST(\n",
        "    root=\"./data\",\n",
        "    train=True,\n",
        "    transform=train_tfms,\n",
        "    download=True,\n",
        "    )\n",
        "\n",
        "test_dataset = datasets.FashionMNIST(\n",
        "    root=\"./data\",\n",
        "    train=False,\n",
        "    transform=test_tfms,\n",
        "    download=True,\n",
        "    )\n",
        "\n",
        "print(\"Num. train (total, unused):\", len(train_dataset_full))\n",
        "print(\"Num. test:\", len(test_dataset))\n",
        "\n",
        "\n",
        "maps = {i: [] for i in range(10)}\n",
        "for idx, (_, cls_idx) in enumerate(train_dataset_full):\n",
        "    if len(maps[cls_idx]) < 500:\n",
        "        maps[cls_idx].append(idx)\n",
        "\n",
        "indices = []\n",
        "for _, ind in maps.items():\n",
        "    indices += ind\n",
        "\n",
        "train_dataset = torch.utils.data.Subset(train_dataset_full, indices)\n",
        "print(\"Num. train:\", len(train_dataset))\n",
        "\n"
      ],
      "id": "216b0b17"
    },
    {
      "cell_type": "markdown",
      "metadata": {
        "id": "4f42acf1"
      },
      "source": [
        "# Model & Training\n",
        "\n"
      ],
      "id": "4f42acf1"
    },
    {
      "cell_type": "code",
      "execution_count": 9,
      "metadata": {
        "id": "4384009b"
      },
      "outputs": [],
      "source": [
        "class MiniVGG(nn.Module):\n",
        "    def __init__(\n",
        "        self,\n",
        "        ):\n",
        "        super(MiniVGG, self).__init__()\n",
        "        self.features = nn.Sequential(\n",
        "            nn.Conv2d(1, 64, kernel_size=3, padding=1),\n",
        "            nn.ReLU(inplace=True),\n",
        "            nn.Conv2d(64, 64, kernel_size=3, padding=1),\n",
        "            nn.ReLU(inplace=True),\n",
        "            nn.MaxPool2d(kernel_size=2, stride=2),\n",
        "\n",
        "            nn.Conv2d(64, 128, kernel_size=3, padding=1),\n",
        "            nn.ReLU(inplace=True),\n",
        "            nn.Conv2d(128, 128, kernel_size=3, padding=1),\n",
        "            nn.ReLU(inplace=True),\n",
        "            nn.MaxPool2d(kernel_size=2, stride=2),\n",
        "\n",
        "            nn.Conv2d(128, 256, kernel_size=3, padding=1),\n",
        "            nn.ReLU(inplace=True),\n",
        "            nn.Conv2d(256, 256, kernel_size=3, padding=1),\n",
        "            nn.ReLU(inplace=True),\n",
        "            nn.MaxPool2d(kernel_size=2, stride=2),\n",
        "        )\n",
        "        self.classifier = nn.Linear(256 * 3 * 3, 10)\n",
        "        nn.init.normal_(self.classifier.weight, 0, 0.01)\n",
        "        nn.init.constant_(self.classifier.bias, 0)\n",
        "\n",
        "    def forward(\n",
        "        self,\n",
        "        x,\n",
        "        ):\n",
        "        x = self.features(x)\n",
        "        x = torch.flatten(x, 1)\n",
        "        x = self.classifier(x)\n",
        "        return x"
      ],
      "id": "4384009b"
    },
    {
      "cell_type": "code",
      "execution_count": 10,
      "metadata": {
        "id": "0OYW49aGGeUK"
      },
      "outputs": [],
      "source": [
        "class One_Hot(nn.Module):\n",
        "    def __init__(self, depth):\n",
        "        super(One_Hot,self).__init__()\n",
        "        self.depth = depth\n",
        "        self.ones = torch.sparse.torch.eye(depth)\n",
        "    def forward(self, X_in):\n",
        "        X_in = X_in.long()\n",
        "        return self.ones.index_select(0,X_in.data)\n",
        "    def __repr__(self):\n",
        "        return self.__class__.__name__ + \"({})\".format(self.depth)"
      ],
      "id": "0OYW49aGGeUK"
    },
    {
      "cell_type": "code",
      "execution_count": 11,
      "metadata": {
        "id": "36f6b2fa"
      },
      "outputs": [],
      "source": [
        "\n",
        "batch_size = 256\n",
        "validate_every = 3\n",
        "device = torch.device(\"cuda:0\" if torch.cuda.is_available() else \"cpu\")\n",
        "lr = 1e-4\n",
        "\n",
        "def train(\n",
        "    model,\n",
        "    criterion,\n",
        "    optimizer,\n",
        "    train_loader,\n",
        "    test_loader,\n",
        "    epochs,\n",
        "    ):\n",
        "    best_model_wts = copy.deepcopy(model.state_dict())\n",
        "    best_acc = 0.0\n",
        "    best_runtime = None\n",
        "\n",
        "\n",
        "    epoch_loss_test = 0.0\n",
        "    epoch_acc = 0.0\n",
        "    infos = {\"train\":{'loss':[],'acc':[],'epoch':[]}, \"test\":{'loss':[],'acc':[],'epoch':[]}}\n",
        "\n",
        "\n",
        "    # Train loop\n",
        "    for epoch in range(epochs):\n",
        "        print(f'Epoch {epoch + 1}/{epochs}')\n",
        "        print('-' * 10)\n",
        "\n",
        "        model.train()\n",
        "        running_corrects = 0\n",
        "        epoch_loss_train = 0.0\n",
        "\n",
        "        # Iterate over data.\n",
        "        for i, (inputs, labels) in enumerate(train_loader):\n",
        "            if torch.cuda.is_available():\n",
        "                inputs = inputs.cuda()\n",
        "                labels = labels.cuda()\n",
        "\n",
        "            # Forward\n",
        "            optimizer.zero_grad()\n",
        "\n",
        "            outputs = model(inputs)\n",
        "            loss = criterion(outputs, labels)\n",
        "            loss.backward()\n",
        "            optimizer.step()\n",
        "\n",
        "            # Statistics\n",
        "            _, preds = torch.max(outputs, 1)\n",
        "            epoch_loss_train += loss.item() * inputs.size(0)\n",
        "            running_corrects += torch.sum(preds == labels.data)\n",
        "\n",
        "        epoch_loss_train /= len(train_loader.dataset)\n",
        "        epoch_acc_train = running_corrects.double() / len(train_loader.dataset)\n",
        "\n",
        "        print(\"Epoch: {} Train loss: {:.4f}, Train Acc {:.4f}\".format(epoch + 1, epoch_loss_train, epoch_acc_train))\n",
        "\n",
        "        if (epoch + 1) % validate_every == 0:\n",
        "            epoch_acc, runtime, epoch_loss_test = test(model, test_loader)\n",
        "\n",
        "            # deep copy the best model\n",
        "            if epoch_acc > best_acc:\n",
        "                best_acc = epoch_acc\n",
        "                best_model_wts = copy.deepcopy(model.state_dict())\n",
        "                best_runtime = runtime\n",
        "            print(\"Test Acc: {:.4f}\".format(epoch_acc))\n",
        "        print()\n",
        "\n",
        "\n",
        "        if type(epoch_loss_train)!= float:\n",
        "          infos['train']['loss'].append(epoch_loss_train.cpu().numpy().tolist())\n",
        "        else:\n",
        "           infos['train']['loss'].append(epoch_loss_train)\n",
        "        if type(epoch_acc_train)!= float:\n",
        "          infos['train']['acc'].append(epoch_acc_train.cpu().numpy().tolist())\n",
        "        else:\n",
        "          infos['train']['acc'].append(epoch_acc_train)\n",
        "        infos['train']['epoch'].append( epoch + 1)\n",
        "        if type(epoch_loss_test)!= float:\n",
        "          infos['test']['loss'].append(epoch_loss_test.cpu().numpy().tolist())\n",
        "        else:\n",
        "          infos['test']['loss'].append(epoch_loss_test)\n",
        "        if type(epoch_acc)!= float:\n",
        "          infos['test']['acc'].append(epoch_acc.cpu().numpy().tolist())\n",
        "        else:\n",
        "          infos['test']['acc'].append(epoch_acc)\n",
        "        infos['test']['epoch'].append(epoch + 1)\n",
        "        # ####################\n",
        "\n",
        "\n",
        "    print()\n",
        "    print(\"Best Acc: {:.4f}\".format(best_acc))\n",
        "\n",
        "    # load best model weights\n",
        "    model.load_state_dict(best_model_wts)\n",
        "    return model, best_acc, best_runtime, infos\n",
        "\n",
        "\n",
        "def test(\n",
        "    model,\n",
        "    test_loader,\n",
        "    ):\n",
        "    start = time.time()\n",
        "\n",
        "    size = len(test_loader.dataset)\n",
        "    corrects = 0\n",
        "    epoch_loss = 0.0\n",
        "\n",
        "    model.eval()\n",
        "    with torch.no_grad():\n",
        "        for inputs, gts in test_loader:\n",
        "            if torch.cuda.is_available():\n",
        "                inputs = inputs.cuda()\n",
        "\n",
        "            # Forward only\n",
        "            outputs = model(inputs)\n",
        "            _, preds = torch.max(outputs, 1)\n",
        "            preds = preds.cpu()\n",
        "            corrects += torch.sum(preds == gts.data)\n",
        "\n",
        "            CE = nn.CrossEntropyLoss().to(device)\n",
        "            loss = CE(outputs.to(device), gts.to(device))\n",
        "            epoch_loss += loss.item()  * inputs.size(0)\n",
        "        epoch_loss /= len(test_loader.dataset)\n",
        "\n",
        "\n",
        "    acc = corrects / size\n",
        "    runtime = time.time() - start\n",
        "    print(\"Test Acc: {:.4f}, Runtime: {:.2f}\".format(acc, runtime))\n",
        "\n",
        "    return acc, runtime, epoch_loss"
      ],
      "id": "36f6b2fa"
    },
    {
      "cell_type": "markdown",
      "metadata": {
        "id": "ecf68834"
      },
      "source": [
        "We will make use of a pretrained model on Cifar10 to perform transfer learning. A pretrained weight for the above is provided in eClass.\n",
        "\n",
        "In order to keep useful information from a pre-trained model, while transferring to the FashionMNIST dataset, we need to freeze all parts of the network except the final classifier layer, so that the gradients are only computed in backward() for the final layer.\n",
        "\n",
        "### TODO (1.5 out of 5): Complete the coding section in main()."
      ],
      "id": "ecf68834"
    },
    {
      "cell_type": "code",
      "execution_count": 12,
      "metadata": {
        "id": "548180ab"
      },
      "outputs": [],
      "source": [
        "def main(\n",
        "    finetune=None,\n",
        "    epochs=5,\n",
        "    ):\n",
        "    # Define your model\n",
        "    model = MiniVGG()\n",
        "    # torch.cuda.empty_cache()\n",
        "    if finetune is not None:\n",
        "\n",
        "        print('1')\n",
        "        model.load_state_dict(torch.load('/content/drive/MyDrive/DeepLearning/'+ finetune[1:]+'.pth', map_location=torch.device('cpu')))\n",
        "\n",
        "        for name, param in model.named_parameters():\n",
        "          if 'features' in name:\n",
        "            # print(name)\n",
        "            param.requires_grad = False\n",
        "        model.classifier = torch.nn.Linear(in_features=2304,out_features=10)\n",
        "        nn.init.normal_(model.classifier.weight, 0, 0.01)\n",
        "        nn.init.constant_(model.classifier.bias, 0)\n",
        "\n",
        "        optimizer = optim.Adam(model.parameters(),lr=lr)\n",
        "\n",
        "    else:\n",
        "\n",
        "        print('2')\n",
        "        model.classifier = torch.nn.Linear(in_features=2304,out_features=10)\n",
        "        nn.init.normal_(model.classifier.weight, 0, 0.01)\n",
        "        nn.init.constant_(model.classifier.bias, 0)\n",
        "        optimizer = optim.Adam(\n",
        "            model.parameters(),\n",
        "            lr=lr)\n",
        "\n",
        "    if torch.cuda.is_available():   # Put to GPU\n",
        "        model = model.cuda()\n",
        "\n",
        "    # Loss\n",
        "    criterion = nn.CrossEntropyLoss()\n",
        "\n",
        "    # Data loaders\n",
        "    train_loader = torch.utils.data.DataLoader(\n",
        "        train_dataset,\n",
        "        batch_size=batch_size,\n",
        "        shuffle=True,\n",
        "        num_workers=2,\n",
        "        )\n",
        "    test_loader = torch.utils.data.DataLoader(\n",
        "        test_dataset,\n",
        "        batch_size=batch_size,\n",
        "        shuffle=False,\n",
        "        num_workers=2,\n",
        "        )\n",
        "\n",
        "    best_model, best_acc, best_runtime, train_infos = train(model, criterion, optimizer, train_loader, test_loader, epochs)\n",
        "\n",
        "    return best_acc, train_infos"
      ],
      "id": "548180ab"
    },
    {
      "cell_type": "code",
      "source": [
        "main(finetune=\"./mnist/mnist_mini_vgg\", epochs=5)[0]"
      ],
      "metadata": {
        "colab": {
          "base_uri": "https://localhost:8080/"
        },
        "id": "XNvb_XG0gT8Q",
        "outputId": "9a03d554-5589-4bf2-c442-a876fdf34c69"
      },
      "id": "XNvb_XG0gT8Q",
      "execution_count": null,
      "outputs": [
        {
          "output_type": "stream",
          "name": "stdout",
          "text": [
            "1\n",
            "Epoch 1/5\n",
            "----------\n",
            "Epoch: 1 Train loss: 2.1431, Train Acc 0.2272\n",
            "\n",
            "Epoch 2/5\n",
            "----------\n",
            "Epoch: 2 Train loss: 1.7856, Train Acc 0.4416\n",
            "\n",
            "Epoch 3/5\n",
            "----------\n",
            "Epoch: 3 Train loss: 1.5352, Train Acc 0.5794\n",
            "Test Acc: 0.5970, Runtime: 689.57\n",
            "Test Acc: 0.5970\n",
            "\n",
            "Epoch 4/5\n",
            "----------\n",
            "Epoch: 4 Train loss: 1.3643, Train Acc 0.6470\n",
            "\n",
            "Epoch 5/5\n",
            "----------\n"
          ]
        }
      ]
    }
  ],
  "metadata": {
    "accelerator": "TPU",
    "colab": {
      "provenance": [],
      "gpuClass": "premium"
    },
    "kernelspec": {
      "display_name": "Python 3",
      "name": "python3"
    },
    "language_info": {
      "codemirror_mode": {
        "name": "ipython",
        "version": 3
      },
      "file_extension": ".py",
      "mimetype": "text/x-python",
      "name": "python",
      "nbconvert_exporter": "python",
      "pygments_lexer": "ipython3",
      "version": "3.8.10"
    },
    "vscode": {
      "interpreter": {
        "hash": "916dbcbb3f70747c44a77c7bcd40155683ae19c65e1c03b4aa3499c5328201f1"
      }
    }
  },
  "nbformat": 4,
  "nbformat_minor": 5
}